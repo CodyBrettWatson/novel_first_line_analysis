{
 "cells": [
  {
   "cell_type": "code",
   "execution_count": 1,
   "metadata": {},
   "outputs": [],
   "source": [
    "import os\n",
    "import json\n",
    "import itertools as it\n",
    "from typing import List, Dict\n",
    "\n",
    "import requests\n",
    "from requests import get\n",
    "from bs4 import BeautifulSoup\n",
    "import pandas as pd\n",
    "import urllib.request"
   ]
  },
  {
   "cell_type": "code",
   "execution_count": 76,
   "metadata": {},
   "outputs": [
    {
     "name": "stdout",
     "output_type": "stream",
     "text": [
      "200\n"
     ]
    }
   ],
   "source": [
    "url = 'https://www.gutenberg.org/browse/scores/top'\n",
    "response = requests.get(url)\n",
    "data = response.text\n",
    "print(response.status_code)\n",
    "soup = BeautifulSoup(data, \"html.parser\")\n",
    "\n",
    "book_url_list = []\n",
    "for ol in soup.findAll('ol'):\n",
    "    for a in ol.findAll('a'):\n",
    "        if a.get('href').find(\"ebooks\") != -1:\n",
    "            book_url_list.append('https://www.gutenberg.org' + a.get('href'))"
   ]
  },
  {
   "cell_type": "code",
   "execution_count": 77,
   "metadata": {},
   "outputs": [
    {
     "data": {
      "text/plain": [
       "['https://www.gutenberg.org/ebooks/1342',\n",
       " 'https://www.gutenberg.org/ebooks/37134',\n",
       " 'https://www.gutenberg.org/ebooks/11',\n",
       " 'https://www.gutenberg.org/ebooks/84',\n",
       " 'https://www.gutenberg.org/ebooks/1661',\n",
       " 'https://www.gutenberg.org/ebooks/1251',\n",
       " 'https://www.gutenberg.org/ebooks/844',\n",
       " 'https://www.gutenberg.org/ebooks/98',\n",
       " 'https://www.gutenberg.org/ebooks/59519',\n",
       " 'https://www.gutenberg.org/ebooks/43',\n",
       " 'https://www.gutenberg.org/ebooks/345',\n",
       " 'https://www.gutenberg.org/ebooks/74',\n",
       " 'https://www.gutenberg.org/ebooks/2701',\n",
       " 'https://www.gutenberg.org/ebooks/174',\n",
       " 'https://www.gutenberg.org/ebooks/59521',\n",
       " 'https://www.gutenberg.org/ebooks/2600',\n",
       " 'https://www.gutenberg.org/ebooks/30254',\n",
       " 'https://www.gutenberg.org/ebooks/4300',\n",
       " 'https://www.gutenberg.org/ebooks/59520',\n",
       " 'https://www.gutenberg.org/ebooks/59514',\n",
       " 'https://www.gutenberg.org/ebooks/1400',\n",
       " 'https://www.gutenberg.org/ebooks/5200',\n",
       " 'https://www.gutenberg.org/ebooks/76',\n",
       " 'https://www.gutenberg.org/ebooks/16328',\n",
       " 'https://www.gutenberg.org/ebooks/2542',\n",
       " 'https://www.gutenberg.org/ebooks/1260',\n",
       " 'https://www.gutenberg.org/ebooks/1952',\n",
       " 'https://www.gutenberg.org/ebooks/59526',\n",
       " 'https://www.gutenberg.org/ebooks/219',\n",
       " 'https://www.gutenberg.org/ebooks/1184',\n",
       " 'https://www.gutenberg.org/ebooks/160',\n",
       " 'https://www.gutenberg.org/ebooks/2554',\n",
       " 'https://www.gutenberg.org/ebooks/59518',\n",
       " 'https://www.gutenberg.org/ebooks/158',\n",
       " 'https://www.gutenberg.org/ebooks/59515',\n",
       " 'https://www.gutenberg.org/ebooks/1252',\n",
       " 'https://www.gutenberg.org/ebooks/6130',\n",
       " 'https://www.gutenberg.org/ebooks/100',\n",
       " 'https://www.gutenberg.org/ebooks/2591',\n",
       " 'https://www.gutenberg.org/ebooks/59522',\n",
       " 'https://www.gutenberg.org/ebooks/5740',\n",
       " 'https://www.gutenberg.org/ebooks/28054',\n",
       " 'https://www.gutenberg.org/ebooks/1232',\n",
       " 'https://www.gutenberg.org/ebooks/408',\n",
       " 'https://www.gutenberg.org/ebooks/1497',\n",
       " 'https://www.gutenberg.org/ebooks/120',\n",
       " 'https://www.gutenberg.org/ebooks/135',\n",
       " 'https://www.gutenberg.org/ebooks/2500',\n",
       " 'https://www.gutenberg.org/ebooks/205',\n",
       " 'https://www.gutenberg.org/ebooks/16',\n",
       " 'https://www.gutenberg.org/ebooks/59516',\n",
       " 'https://www.gutenberg.org/ebooks/55',\n",
       " 'https://www.gutenberg.org/ebooks/35',\n",
       " 'https://www.gutenberg.org/ebooks/33283',\n",
       " 'https://www.gutenberg.org/ebooks/27827',\n",
       " 'https://www.gutenberg.org/ebooks/59512',\n",
       " 'https://www.gutenberg.org/ebooks/2680',\n",
       " 'https://www.gutenberg.org/ebooks/30360',\n",
       " 'https://www.gutenberg.org/ebooks/59527',\n",
       " 'https://www.gutenberg.org/ebooks/2148',\n",
       " 'https://www.gutenberg.org/ebooks/59511',\n",
       " 'https://www.gutenberg.org/ebooks/161',\n",
       " 'https://www.gutenberg.org/ebooks/10',\n",
       " 'https://www.gutenberg.org/ebooks/59517',\n",
       " 'https://www.gutenberg.org/ebooks/3825',\n",
       " 'https://www.gutenberg.org/ebooks/4363',\n",
       " 'https://www.gutenberg.org/ebooks/46',\n",
       " 'https://www.gutenberg.org/ebooks/768',\n",
       " 'https://www.gutenberg.org/ebooks/45',\n",
       " 'https://www.gutenberg.org/ebooks/1727',\n",
       " 'https://www.gutenberg.org/ebooks/58585',\n",
       " 'https://www.gutenberg.org/ebooks/1080',\n",
       " 'https://www.gutenberg.org/ebooks/244',\n",
       " 'https://www.gutenberg.org/ebooks/730',\n",
       " 'https://www.gutenberg.org/ebooks/48371',\n",
       " 'https://www.gutenberg.org/ebooks/2814',\n",
       " 'https://www.gutenberg.org/ebooks/2610',\n",
       " 'https://www.gutenberg.org/ebooks/20',\n",
       " 'https://www.gutenberg.org/ebooks/3207',\n",
       " 'https://www.gutenberg.org/ebooks/1322',\n",
       " 'https://www.gutenberg.org/ebooks/996',\n",
       " 'https://www.gutenberg.org/ebooks/62',\n",
       " 'https://www.gutenberg.org/ebooks/19942',\n",
       " 'https://www.gutenberg.org/ebooks/59525',\n",
       " 'https://www.gutenberg.org/ebooks/8800',\n",
       " 'https://www.gutenberg.org/ebooks/59505',\n",
       " 'https://www.gutenberg.org/ebooks/1112',\n",
       " 'https://www.gutenberg.org/ebooks/105',\n",
       " 'https://www.gutenberg.org/ebooks/59504',\n",
       " 'https://www.gutenberg.org/ebooks/36',\n",
       " 'https://www.gutenberg.org/ebooks/2852',\n",
       " 'https://www.gutenberg.org/ebooks/521',\n",
       " 'https://www.gutenberg.org/ebooks/1998',\n",
       " 'https://www.gutenberg.org/ebooks/1399',\n",
       " 'https://www.gutenberg.org/ebooks/61',\n",
       " 'https://www.gutenberg.org/ebooks/113',\n",
       " 'https://www.gutenberg.org/ebooks/59528',\n",
       " 'https://www.gutenberg.org/ebooks/25344',\n",
       " 'https://www.gutenberg.org/ebooks/215',\n",
       " 'https://www.gutenberg.org/ebooks/2097',\n",
       " 'https://www.gutenberg.org/ebooks/1342',\n",
       " 'https://www.gutenberg.org/ebooks/84',\n",
       " 'https://www.gutenberg.org/ebooks/11',\n",
       " 'https://www.gutenberg.org/ebooks/43',\n",
       " 'https://www.gutenberg.org/ebooks/844',\n",
       " 'https://www.gutenberg.org/ebooks/98',\n",
       " 'https://www.gutenberg.org/ebooks/1661',\n",
       " 'https://www.gutenberg.org/ebooks/345',\n",
       " 'https://www.gutenberg.org/ebooks/2701',\n",
       " 'https://www.gutenberg.org/ebooks/2542',\n",
       " 'https://www.gutenberg.org/ebooks/74',\n",
       " 'https://www.gutenberg.org/ebooks/2600',\n",
       " 'https://www.gutenberg.org/ebooks/174',\n",
       " 'https://www.gutenberg.org/ebooks/1251',\n",
       " 'https://www.gutenberg.org/ebooks/30254',\n",
       " 'https://www.gutenberg.org/ebooks/4300',\n",
       " 'https://www.gutenberg.org/ebooks/5200',\n",
       " 'https://www.gutenberg.org/ebooks/16328',\n",
       " 'https://www.gutenberg.org/ebooks/1260',\n",
       " 'https://www.gutenberg.org/ebooks/76',\n",
       " 'https://www.gutenberg.org/ebooks/1400',\n",
       " 'https://www.gutenberg.org/ebooks/1952',\n",
       " 'https://www.gutenberg.org/ebooks/2554',\n",
       " 'https://www.gutenberg.org/ebooks/1184',\n",
       " 'https://www.gutenberg.org/ebooks/160',\n",
       " 'https://www.gutenberg.org/ebooks/158',\n",
       " 'https://www.gutenberg.org/ebooks/219',\n",
       " 'https://www.gutenberg.org/ebooks/6130',\n",
       " 'https://www.gutenberg.org/ebooks/408',\n",
       " 'https://www.gutenberg.org/ebooks/120',\n",
       " 'https://www.gutenberg.org/ebooks/135',\n",
       " 'https://www.gutenberg.org/ebooks/1232',\n",
       " 'https://www.gutenberg.org/ebooks/2591',\n",
       " 'https://www.gutenberg.org/ebooks/46',\n",
       " 'https://www.gutenberg.org/ebooks/5740',\n",
       " 'https://www.gutenberg.org/ebooks/1497',\n",
       " 'https://www.gutenberg.org/ebooks/28054',\n",
       " 'https://www.gutenberg.org/ebooks/16',\n",
       " 'https://www.gutenberg.org/ebooks/2500',\n",
       " 'https://www.gutenberg.org/ebooks/37134',\n",
       " 'https://www.gutenberg.org/ebooks/2680',\n",
       " 'https://www.gutenberg.org/ebooks/100',\n",
       " 'https://www.gutenberg.org/ebooks/205',\n",
       " 'https://www.gutenberg.org/ebooks/48371',\n",
       " 'https://www.gutenberg.org/ebooks/27827',\n",
       " 'https://www.gutenberg.org/ebooks/59478',\n",
       " 'https://www.gutenberg.org/ebooks/35',\n",
       " 'https://www.gutenberg.org/ebooks/59486',\n",
       " 'https://www.gutenberg.org/ebooks/59480',\n",
       " 'https://www.gutenberg.org/ebooks/244',\n",
       " 'https://www.gutenberg.org/ebooks/55',\n",
       " 'https://www.gutenberg.org/ebooks/30360',\n",
       " 'https://www.gutenberg.org/ebooks/2814',\n",
       " 'https://www.gutenberg.org/ebooks/3825',\n",
       " 'https://www.gutenberg.org/ebooks/58585',\n",
       " 'https://www.gutenberg.org/ebooks/768',\n",
       " 'https://www.gutenberg.org/ebooks/33283',\n",
       " 'https://www.gutenberg.org/ebooks/996',\n",
       " 'https://www.gutenberg.org/ebooks/10',\n",
       " 'https://www.gutenberg.org/ebooks/4363',\n",
       " 'https://www.gutenberg.org/ebooks/2610',\n",
       " 'https://www.gutenberg.org/ebooks/1080',\n",
       " 'https://www.gutenberg.org/ebooks/2097',\n",
       " 'https://www.gutenberg.org/ebooks/61',\n",
       " 'https://www.gutenberg.org/ebooks/59498',\n",
       " 'https://www.gutenberg.org/ebooks/3207',\n",
       " 'https://www.gutenberg.org/ebooks/2148',\n",
       " 'https://www.gutenberg.org/ebooks/45',\n",
       " 'https://www.gutenberg.org/ebooks/23',\n",
       " 'https://www.gutenberg.org/ebooks/1252',\n",
       " 'https://www.gutenberg.org/ebooks/113',\n",
       " 'https://www.gutenberg.org/ebooks/730',\n",
       " 'https://www.gutenberg.org/ebooks/161',\n",
       " 'https://www.gutenberg.org/ebooks/36',\n",
       " 'https://www.gutenberg.org/ebooks/1322',\n",
       " 'https://www.gutenberg.org/ebooks/8800',\n",
       " 'https://www.gutenberg.org/ebooks/1727',\n",
       " 'https://www.gutenberg.org/ebooks/59516',\n",
       " 'https://www.gutenberg.org/ebooks/2852',\n",
       " 'https://www.gutenberg.org/ebooks/20',\n",
       " 'https://www.gutenberg.org/ebooks/62',\n",
       " 'https://www.gutenberg.org/ebooks/59504',\n",
       " 'https://www.gutenberg.org/ebooks/59505',\n",
       " 'https://www.gutenberg.org/ebooks/59512',\n",
       " 'https://www.gutenberg.org/ebooks/19942',\n",
       " 'https://www.gutenberg.org/ebooks/59514',\n",
       " 'https://www.gutenberg.org/ebooks/521',\n",
       " 'https://www.gutenberg.org/ebooks/1998',\n",
       " 'https://www.gutenberg.org/ebooks/105',\n",
       " 'https://www.gutenberg.org/ebooks/59515',\n",
       " 'https://www.gutenberg.org/ebooks/375',\n",
       " 'https://www.gutenberg.org/ebooks/28520',\n",
       " 'https://www.gutenberg.org/ebooks/29728',\n",
       " 'https://www.gutenberg.org/ebooks/786',\n",
       " 'https://www.gutenberg.org/ebooks/1112',\n",
       " 'https://www.gutenberg.org/ebooks/514',\n",
       " 'https://www.gutenberg.org/ebooks/59519',\n",
       " 'https://www.gutenberg.org/ebooks/1399',\n",
       " 'https://www.gutenberg.org/ebooks/59495',\n",
       " 'https://www.gutenberg.org/ebooks/37607',\n",
       " 'https://www.gutenberg.org/ebooks/1342',\n",
       " 'https://www.gutenberg.org/ebooks/84',\n",
       " 'https://www.gutenberg.org/ebooks/844',\n",
       " 'https://www.gutenberg.org/ebooks/98',\n",
       " 'https://www.gutenberg.org/ebooks/11',\n",
       " 'https://www.gutenberg.org/ebooks/2542',\n",
       " 'https://www.gutenberg.org/ebooks/1661',\n",
       " 'https://www.gutenberg.org/ebooks/43',\n",
       " 'https://www.gutenberg.org/ebooks/345',\n",
       " 'https://www.gutenberg.org/ebooks/2701',\n",
       " 'https://www.gutenberg.org/ebooks/174',\n",
       " 'https://www.gutenberg.org/ebooks/74',\n",
       " 'https://www.gutenberg.org/ebooks/2600',\n",
       " 'https://www.gutenberg.org/ebooks/4300',\n",
       " 'https://www.gutenberg.org/ebooks/5200',\n",
       " 'https://www.gutenberg.org/ebooks/76',\n",
       " 'https://www.gutenberg.org/ebooks/16328',\n",
       " 'https://www.gutenberg.org/ebooks/30254',\n",
       " 'https://www.gutenberg.org/ebooks/1260',\n",
       " 'https://www.gutenberg.org/ebooks/160',\n",
       " 'https://www.gutenberg.org/ebooks/1952',\n",
       " 'https://www.gutenberg.org/ebooks/408',\n",
       " 'https://www.gutenberg.org/ebooks/1400',\n",
       " 'https://www.gutenberg.org/ebooks/219',\n",
       " 'https://www.gutenberg.org/ebooks/2610',\n",
       " 'https://www.gutenberg.org/ebooks/2591',\n",
       " 'https://www.gutenberg.org/ebooks/6130',\n",
       " 'https://www.gutenberg.org/ebooks/1080',\n",
       " 'https://www.gutenberg.org/ebooks/135',\n",
       " 'https://www.gutenberg.org/ebooks/2554',\n",
       " 'https://www.gutenberg.org/ebooks/1184',\n",
       " 'https://www.gutenberg.org/ebooks/1497',\n",
       " 'https://www.gutenberg.org/ebooks/158',\n",
       " 'https://www.gutenberg.org/ebooks/37134',\n",
       " 'https://www.gutenberg.org/ebooks/5740',\n",
       " 'https://www.gutenberg.org/ebooks/28054',\n",
       " 'https://www.gutenberg.org/ebooks/205',\n",
       " 'https://www.gutenberg.org/ebooks/120',\n",
       " 'https://www.gutenberg.org/ebooks/1232',\n",
       " 'https://www.gutenberg.org/ebooks/2814',\n",
       " 'https://www.gutenberg.org/ebooks/46',\n",
       " 'https://www.gutenberg.org/ebooks/2680',\n",
       " 'https://www.gutenberg.org/ebooks/16',\n",
       " 'https://www.gutenberg.org/ebooks/100',\n",
       " 'https://www.gutenberg.org/ebooks/2500',\n",
       " 'https://www.gutenberg.org/ebooks/768',\n",
       " 'https://www.gutenberg.org/ebooks/244',\n",
       " 'https://www.gutenberg.org/ebooks/27827',\n",
       " 'https://www.gutenberg.org/ebooks/375',\n",
       " 'https://www.gutenberg.org/ebooks/55',\n",
       " 'https://www.gutenberg.org/ebooks/30360',\n",
       " 'https://www.gutenberg.org/ebooks/35',\n",
       " 'https://www.gutenberg.org/ebooks/3825',\n",
       " 'https://www.gutenberg.org/ebooks/10',\n",
       " 'https://www.gutenberg.org/ebooks/61',\n",
       " 'https://www.gutenberg.org/ebooks/58585',\n",
       " 'https://www.gutenberg.org/ebooks/996',\n",
       " 'https://www.gutenberg.org/ebooks/4363',\n",
       " 'https://www.gutenberg.org/ebooks/33283',\n",
       " 'https://www.gutenberg.org/ebooks/1251',\n",
       " 'https://www.gutenberg.org/ebooks/23',\n",
       " 'https://www.gutenberg.org/ebooks/3207',\n",
       " 'https://www.gutenberg.org/ebooks/730',\n",
       " 'https://www.gutenberg.org/ebooks/8800',\n",
       " 'https://www.gutenberg.org/ebooks/2852',\n",
       " 'https://www.gutenberg.org/ebooks/25344',\n",
       " 'https://www.gutenberg.org/ebooks/45',\n",
       " 'https://www.gutenberg.org/ebooks/113',\n",
       " 'https://www.gutenberg.org/ebooks/20',\n",
       " 'https://www.gutenberg.org/ebooks/1322',\n",
       " 'https://www.gutenberg.org/ebooks/1998',\n",
       " 'https://www.gutenberg.org/ebooks/161',\n",
       " 'https://www.gutenberg.org/ebooks/521',\n",
       " 'https://www.gutenberg.org/ebooks/786',\n",
       " 'https://www.gutenberg.org/ebooks/36',\n",
       " 'https://www.gutenberg.org/ebooks/2097',\n",
       " 'https://www.gutenberg.org/ebooks/28520',\n",
       " 'https://www.gutenberg.org/ebooks/1727',\n",
       " 'https://www.gutenberg.org/ebooks/514',\n",
       " 'https://www.gutenberg.org/ebooks/19942',\n",
       " 'https://www.gutenberg.org/ebooks/3600',\n",
       " 'https://www.gutenberg.org/ebooks/203',\n",
       " 'https://www.gutenberg.org/ebooks/2148',\n",
       " 'https://www.gutenberg.org/ebooks/209',\n",
       " 'https://www.gutenberg.org/ebooks/105',\n",
       " 'https://www.gutenberg.org/ebooks/1399',\n",
       " 'https://www.gutenberg.org/ebooks/1112',\n",
       " 'https://www.gutenberg.org/ebooks/1001',\n",
       " 'https://www.gutenberg.org/ebooks/145',\n",
       " 'https://www.gutenberg.org/ebooks/829',\n",
       " 'https://www.gutenberg.org/ebooks/7370',\n",
       " 'https://www.gutenberg.org/ebooks/863',\n",
       " 'https://www.gutenberg.org/ebooks/86',\n",
       " 'https://www.gutenberg.org/ebooks/10623',\n",
       " 'https://www.gutenberg.org/ebooks/215',\n",
       " 'https://www.gutenberg.org/ebooks/121',\n",
       " 'https://www.gutenberg.org/ebooks/25305',\n",
       " 'https://www.gutenberg.org/ebooks/62',\n",
       " 'https://www.gutenberg.org/ebooks/4517',\n",
       " 'https://www.gutenberg.org/ebooks/34901']"
      ]
     },
     "execution_count": 77,
     "metadata": {},
     "output_type": "execute_result"
    }
   ],
   "source": [
    "book_url_list"
   ]
  },
  {
   "cell_type": "code",
   "execution_count": 23,
   "metadata": {},
   "outputs": [
    {
     "ename": "TypeError",
     "evalue": "can only concatenate str (not \"int\") to str",
     "output_type": "error",
     "traceback": [
      "\u001b[0;31m-------------------------------------------\u001b[0m",
      "\u001b[0;31mTypeError\u001b[0m Traceback (most recent call last)",
      "\u001b[0;32m<ipython-input-23-558230085fda>\u001b[0m in \u001b[0;36m<module>\u001b[0;34m\u001b[0m\n\u001b[1;32m     12\u001b[0m         \u001b[0mtxt_links\u001b[0m\u001b[0;34m.\u001b[0m\u001b[0mappend\u001b[0m\u001b[0;34m(\u001b[0m\u001b[0ma\u001b[0m\u001b[0;34m.\u001b[0m\u001b[0mget\u001b[0m\u001b[0;34m(\u001b[0m\u001b[0;34m'href'\u001b[0m\u001b[0;34m)\u001b[0m\u001b[0;34m)\u001b[0m\u001b[0;34m\u001b[0m\u001b[0;34m\u001b[0m\u001b[0m\n\u001b[1;32m     13\u001b[0m \u001b[0;34m\u001b[0m\u001b[0m\n\u001b[0;32m---> 14\u001b[0;31m     \u001b[0mrm_current\u001b[0m \u001b[0;34m+=\u001b[0m \u001b[0;36m1\u001b[0m\u001b[0;34m\u001b[0m\u001b[0;34m\u001b[0m\u001b[0m\n\u001b[0m\u001b[1;32m     15\u001b[0m \u001b[0;34m\u001b[0m\u001b[0m\n\u001b[1;32m     16\u001b[0m     \u001b[0mprint\u001b[0m\u001b[0;34m(\u001b[0m\u001b[0mtxt_links\u001b[0m\u001b[0;34m)\u001b[0m\u001b[0;34m\u001b[0m\u001b[0;34m\u001b[0m\u001b[0m\n",
      "\u001b[0;31mTypeError\u001b[0m: can only concatenate str (not \"int\") to str"
     ]
    }
   ],
   "source": [
    "current = 0\n",
    "rm_current = book_url_list[0]\n",
    "while current < len(book_url_list): # cycles through length of links \n",
    "    rm_url = rm_current\n",
    "    headers = {'User-Agent': 'Cody'} # codeup.com doesn't like our default user-agent\n",
    "    response = get(rm_url, headers=headers)\n",
    "    soup = BeautifulSoup(response.content, 'html.parser')\n",
    "    article = soup.find('td', property_=\"dcterms:format\")\n",
    "    \n",
    "    txt_links=[]\n",
    "    for link in book_url_list:\n",
    "        txt_links.append(a.get('href'))\n",
    " \n",
    "    current += 1\n",
    "    \n",
    "    print(txt_links)"
   ]
  },
  {
   "cell_type": "code",
   "execution_count": 46,
   "metadata": {},
   "outputs": [
    {
     "name": "stdout",
     "output_type": "stream",
     "text": [
      "200\n"
     ]
    }
   ],
   "source": [
    "url = 'https://www.gutenberg.org/ebooks/1342'\n",
    "response = requests.get(url)\n",
    "data = response.text\n",
    "print(response.status_code)\n",
    "soup = BeautifulSoup(data, \"html.parser\")\n",
    "\n",
    "txt_file_list = []\n",
    "for td in soup.findAll('td', datatype='dcterms:IMT', class_='unpadded icon_save'):\n",
    "    for a in td.findAll('a', charset='utf-8'):\n",
    "        txt_file_list.append(a.get('href'))"
   ]
  },
  {
   "cell_type": "code",
   "execution_count": 47,
   "metadata": {},
   "outputs": [
    {
     "data": {
      "text/plain": [
       "['//www.gutenberg.org/files/1342/1342-0.txt']"
      ]
     },
     "execution_count": 47,
     "metadata": {},
     "output_type": "execute_result"
    }
   ],
   "source": [
    "txt_file_list"
   ]
  },
  {
   "cell_type": "code",
   "execution_count": 89,
   "metadata": {},
   "outputs": [
    {
     "name": "stdout",
     "output_type": "stream",
     "text": [
      "200\n",
      "200\n",
      "200\n",
      "200\n"
     ]
    }
   ],
   "source": [
    "#appends the text file url to a list\n",
    "current = 1\n",
    "txt_file_list = []    \n",
    "while current < 5:\n",
    "    url = 'https://www.gutenberg.org/ebooks/{:d}'.format(current)\n",
    "    # this format will cycle through all ~60,000 books and append the url to a list\n",
    "    response = requests.get(url)\n",
    "    data = response.text\n",
    "    print(response.status_code)\n",
    "    soup = BeautifulSoup(data, \"html.parser\")\n",
    "\n",
    " \n",
    "    for td in soup.findAll('td', content='text/plain'):\n",
    "        for a in td.findAll('a'):\n",
    "            txt_file_list.append('https:' + a.get('href'))\n",
    "    current +=1"
   ]
  },
  {
   "cell_type": "code",
   "execution_count": 90,
   "metadata": {},
   "outputs": [
    {
     "data": {
      "text/plain": [
       "['https://www.gutenberg.org/ebooks/1.txt.utf-8',\n",
       " 'https://www.gutenberg.org/ebooks/2.txt.utf-8',\n",
       " 'https://www.gutenberg.org/ebooks/3.txt.utf-8',\n",
       " 'https://www.gutenberg.org/ebooks/4.txt.utf-8']"
      ]
     },
     "execution_count": 90,
     "metadata": {},
     "output_type": "execute_result"
    }
   ],
   "source": [
    "txt_file_list"
   ]
  },
  {
   "cell_type": "code",
   "execution_count": 85,
   "metadata": {},
   "outputs": [
    {
     "name": "stdout",
     "output_type": "stream",
     "text": [
      "200\n",
      "//www.gutenberg.org/ebooks/1.txt.utf-8\n"
     ]
    }
   ],
   "source": [
    "url = 'https://www.gutenberg.org/ebooks/1'\n",
    "response = requests.get(url)\n",
    "data = response.text\n",
    "print(response.status_code)\n",
    "soup = BeautifulSoup(data, \"html.parser\")\n",
    "\n",
    "# txt_file_list = []\n",
    "for td in soup.findAll('td', content='text/plain'):\n",
    "    for a in td.findAll('a'):\n",
    "        print(a.get('href'))\n",
    "# current +=1"
   ]
  },
  {
   "cell_type": "code",
   "execution_count": 86,
   "metadata": {},
   "outputs": [
    {
     "data": {
      "text/plain": [
       "['https://www.gutenberg.org/ebooks/4.txt.utf-8']"
      ]
     },
     "execution_count": 86,
     "metadata": {},
     "output_type": "execute_result"
    }
   ],
   "source": [
    "txt_file_list"
   ]
  },
  {
   "cell_type": "code",
   "execution_count": null,
   "metadata": {},
   "outputs": [],
   "source": [
    "# This will save each text file to a local .txt\n",
    "url = 'https://www.gutenberg.org/ebooks/1'\n",
    "response = requests.get(url)\n",
    "data = response.text\n",
    "print(response.status_code)\n",
    "soup = BeautifulSoup(data, \"html.parser\")\n",
    "\n",
    "# txt_file_list = []\n",
    "for td in soup.findAll('td', content='text/plain'):\n",
    "    for a in td.findAll('a'):\n",
    "        print(a.get('href'))\n",
    "# current +=1"
   ]
  }
 ],
 "metadata": {
  "kernelspec": {
   "display_name": "Python 3",
   "language": "python",
   "name": "python3"
  },
  "language_info": {
   "codemirror_mode": {
    "name": "ipython",
    "version": 3
   },
   "file_extension": ".py",
   "mimetype": "text/x-python",
   "name": "python",
   "nbconvert_exporter": "python",
   "pygments_lexer": "ipython3",
   "version": "3.7.1"
  }
 },
 "nbformat": 4,
 "nbformat_minor": 2
}
